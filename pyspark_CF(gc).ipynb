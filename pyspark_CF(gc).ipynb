{
 "cells": [
  {
   "cell_type": "code",
   "execution_count": 1,
   "metadata": {},
   "outputs": [],
   "source": [
    "import findspark\n",
    "findspark.init()"
   ]
  },
  {
   "cell_type": "code",
   "execution_count": 71,
   "metadata": {},
   "outputs": [],
   "source": [
    "import pyspark\n",
    "from pyspark.sql.functions import *\n",
    "from pyspark.sql.window import Window\n",
    "from pyspark.sql.types import StringType, FloatType, ArrayType\n",
    "from pyspark import SparkContext\n",
    "from pyspark.conf import SparkConf\n",
    "from pyspark.sql import SparkSession\n",
    "from pyspark.ml.feature import StringIndexer, OneHotEncoder\n",
    "from pyspark.ml.linalg import Vectors\n",
    "from pyspark.ml.feature import VectorAssembler\n",
    "\n",
    "import pandas as pd\n",
    "import time\n",
    "import matplotlib.pyplot as plt\n",
    "import seaborn as sns\n",
    "from pyspark.ml.evaluation import RegressionEvaluator\n",
    "from pyspark.ml.recommendation import ALS\n",
    "from pyspark.sql.functions import col, explode\n",
    "from surprise import Reader, Dataset, SVD, SVDpp, NMF, SlopeOne, KNNBasic, KNNBaseline, KNNWithMeans, KNNWithZScore, CoClustering, BaselineOnly\n",
    "from surprise.model_selection.validation import cross_validate"
   ]
  },
  {
   "cell_type": "code",
   "execution_count": 3,
   "metadata": {},
   "outputs": [],
   "source": [
    "spark = SparkSession.builder.appName('pj_2').getOrCreate()    "
   ]
  },
  {
   "cell_type": "markdown",
   "metadata": {},
   "source": [
    "## Đọc dữ liệu"
   ]
  },
  {
   "cell_type": "code",
   "execution_count": 4,
   "metadata": {},
   "outputs": [
    {
     "data": {
      "text/plain": [
       "80314"
      ]
     },
     "execution_count": 4,
     "metadata": {},
     "output_type": "execute_result"
    }
   ],
   "source": [
    "data = spark.read.csv('Data_Agoda/hotel_comments.csv',inferSchema=True,header=True)\n",
    "data.count()"
   ]
  },
  {
   "cell_type": "code",
   "execution_count": 5,
   "metadata": {},
   "outputs": [
    {
     "name": "stdout",
     "output_type": "stream",
     "text": [
      "root\n",
      " |-- num: integer (nullable = true)\n",
      " |-- Hotel ID: string (nullable = true)\n",
      " |-- Reviewer ID: string (nullable = true)\n",
      " |-- Reviewer Name: string (nullable = true)\n",
      " |-- Nationality: string (nullable = true)\n",
      " |-- Group Name: string (nullable = true)\n",
      " |-- Room Type: string (nullable = true)\n",
      " |-- Stay Details: string (nullable = true)\n",
      " |-- Score: string (nullable = true)\n",
      " |-- Score Level: string (nullable = true)\n",
      " |-- Title: string (nullable = true)\n",
      " |-- Body: string (nullable = true)\n",
      " |-- Review Date: string (nullable = true)\n",
      "\n"
     ]
    }
   ],
   "source": [
    "data.printSchema()"
   ]
  },
  {
   "cell_type": "code",
   "execution_count": 6,
   "metadata": {},
   "outputs": [
    {
     "name": "stdout",
     "output_type": "stream",
     "text": [
      "+---+--------+-----------+-------------+-----------+-----------------+--------------------+--------------------+-----+-----------------+--------------------+--------------------+--------------------+\n",
      "|num|Hotel ID|Reviewer ID|Reviewer Name|Nationality|       Group Name|           Room Type|        Stay Details|Score|      Score Level|               Title|                Body|         Review Date|\n",
      "+---+--------+-----------+-------------+-----------+-----------------+--------------------+--------------------+-----+-----------------+--------------------+--------------------+--------------------+\n",
      "|  1|     1_1|      1_1_1|       MARIKO|   Nhật Bản|          Cặp đôi|Phòng Deluxe 2 Gi...|Đã ở 3 đêm vào Th...| 10,0|Trên cả tuyệt vời|         Cao nhất‼︎”|Tôi đã ở cùng chủ...|Đã nhận xét vào 3...|\n",
      "|  2|     1_1|      1_1_2|         Hong|   Việt Nam|      Đi công tác|Phòng Deluxe 2 Gi...|Đã ở 1 đêm vào Th...| 10,0|Trên cả tuyệt vời|            Tháng 8”|Lựa chọn Mường Th...|Đã nhận xét vào 0...|\n",
      "|  3|     1_1|      1_1_3|         Guai|   Việt Nam|          Cặp đôi|Deluxe Hướng biển...|Đã ở 1 đêm vào Th...|  9,2|Trên cả tuyệt vời|Du lịch tại Nha T...|Lần này đến với N...|Đã nhận xét vào 2...|\n",
      "|  4|     1_1|      1_1_4|        Nghĩa|   Việt Nam|Gia đình có em bé|Deluxe Hướng biển...|Đã ở 3 đêm vào Th...|  8,8|        Tuyệt vời|Du lịch Nha Trang...|Hôm đi đến lúc về...|Đã nhận xét vào 0...|\n",
      "|  5|     1_1|      1_1_5|          Duc|   Việt Nam|          Cặp đôi|Deluxe 2 giường H...|Đã ở 1 đêm vào Th...|  9,2|Trên cả tuyệt vời|           Ks tốt !”|Khách sạn có vị t...|Đã nhận xét vào 1...|\n",
      "+---+--------+-----------+-------------+-----------+-----------------+--------------------+--------------------+-----+-----------------+--------------------+--------------------+--------------------+\n",
      "only showing top 5 rows\n",
      "\n"
     ]
    }
   ],
   "source": [
    "data.show(5)"
   ]
  },
  {
   "cell_type": "markdown",
   "metadata": {},
   "source": [
    "## Tạo Dataframe chứa các cột cần dùng làm model"
   ]
  },
  {
   "cell_type": "code",
   "execution_count": 7,
   "metadata": {},
   "outputs": [
    {
     "data": {
      "text/plain": [
       "80314"
      ]
     },
     "execution_count": 7,
     "metadata": {},
     "output_type": "execute_result"
    }
   ],
   "source": [
    "tmp = data.drop('num', 'Reviewer ID')\n",
    "tmp = tmp.withColumn('Score', regexp_replace(col('Score'), ',', '.').cast(FloatType()))\n",
    "tmp.count()"
   ]
  },
  {
   "cell_type": "code",
   "execution_count": 8,
   "metadata": {},
   "outputs": [
    {
     "data": {
      "text/plain": [
       "31032"
      ]
     },
     "execution_count": 8,
     "metadata": {},
     "output_type": "execute_result"
    }
   ],
   "source": [
    "tmp = tmp.dropDuplicates().dropna()\n",
    "tmp.count()"
   ]
  },
  {
   "cell_type": "code",
   "execution_count": 9,
   "metadata": {},
   "outputs": [
    {
     "name": "stdout",
     "output_type": "stream",
     "text": [
      "root\n",
      " |-- Hotel ID: string (nullable = true)\n",
      " |-- Reviewer Name: string (nullable = true)\n",
      " |-- Nationality: string (nullable = true)\n",
      " |-- Group Name: string (nullable = true)\n",
      " |-- Room Type: string (nullable = true)\n",
      " |-- Stay Details: string (nullable = true)\n",
      " |-- Score: float (nullable = true)\n",
      " |-- Score Level: string (nullable = true)\n",
      " |-- Title: string (nullable = true)\n",
      " |-- Body: string (nullable = true)\n",
      " |-- Review Date: string (nullable = true)\n",
      "\n"
     ]
    }
   ],
   "source": [
    "tmp.printSchema()"
   ]
  },
  {
   "cell_type": "markdown",
   "metadata": {},
   "source": [
    "### Tạo cột Reviewer_name_idx bằng cách row_number() với 'Reviewer Name' "
   ]
  },
  {
   "cell_type": "code",
   "execution_count": 10,
   "metadata": {},
   "outputs": [
    {
     "name": "stdout",
     "output_type": "stream",
     "text": [
      "+--------+-------------+-----------+-----------------+--------------------+--------------------+-----+-----------------+-------------------------+-------------------------------------+--------------------+-----------------+\n",
      "|Hotel ID|Reviewer Name|Nationality|       Group Name|           Room Type|        Stay Details|Score|      Score Level|                    Title|                                 Body|         Review Date|Reviewer_name_idx|\n",
      "+--------+-------------+-----------+-----------------+--------------------+--------------------+-----+-----------------+-------------------------+-------------------------------------+--------------------+-----------------+\n",
      "|   10_10|         Diệu|   Việt Nam|          Cặp đôi|Phòng Hai Giường Đơn|Đã ở 1 đêm vào Th...| 10.0|Trên cả tuyệt vời|           Rất thoải mái”|                 Đây là lần thứ 2 ...|Đã nhận xét vào 3...|           Diệu_1|\n",
      "|   10_10|          Han|   Việt Nam|      Đi công tác|    Phòng Tiêu Chuẩn|Đã ở 1 đêm vào Th...| 10.0|Trên cả tuyệt vời|           Vượt mong đợi”|                 Khách sạn sạch sẽ...|Đã nhận xét vào 2...|            Han_1|\n",
      "|   10_10|      JOOHWAN|   Hàn Quốc|Gia đình có em bé|Phòng Superior gi...|Đã ở 1 đêm vào Th...|  9.2|Trên cả tuyệt vời|만족스러운 마지막밤 숙소”|   알마리조트에서 체크아웃 후 다음...|Đã nhận xét vào 2...|        JOOHWAN_1|\n",
      "|   10_12|          Dao|   Việt Nam|          Cặp đôi|Deluxe hướng thàn...|Đã ở 2 đêm vào Th...|  8.8|        Tuyệt vời|     Khách sạn tốt sẽ ...|                 Sạch đẹp gần khu ...|Đã nhận xét vào 1...|            Dao_1|\n",
      "|   10_12|          Dao|   Việt Nam|          Cặp đôi|Deluxe hướng thàn...|Đã ở 1 đêm vào Th...|  9.2|Trên cả tuyệt vời|       Khách sạn rất tốt”|                 Khách sạn sạch đẹ...|Đã nhận xét vào 1...|            Dao_2|\n",
      "|   10_12|         Deni|         Bỉ|          Cặp đôi|Phòng Senior Delu...|Đã ở 2 đêm vào Th...|  9.6|Trên cả tuyệt vời|          Best location ”|                 Very nice mid siz...|Đã nhận xét vào 2...|           Deni_1|\n",
      "|   10_12|        Dương|   Việt Nam|          Cặp đôi|Phòng Superior hư...|Đã ở 1 đêm vào Th...| 10.0|Trên cả tuyệt vời|       Trên cả tuyệt vời”|                                 Good|Đã nhận xét vào 2...|          Dương_1|\n",
      "|   10_12|        FRANK|     Hoa Kỳ|          Cặp đôi|Phòng Superior hư...|Đã ở 6 đêm vào Th...| 10.0|Trên cả tuyệt vời|            Awsome hotel”|                 Good price. Very ...|Đã nhận xét vào 1...|          FRANK_1|\n",
      "|   10_12|         Hong|   Việt Nam| Du lịch một mình|Phòng Loại Sang H...|Đã ở 3 đêm vào Th...|  8.4|        Tuyệt vời|               Tuyệt vời”|                 Khách sạn có vẻ m...|Đã nhận xét vào 0...|           Hong_1|\n",
      "|   10_12|        Huong|   Việt Nam|          Cặp đôi|Phòng đôi Superio...|Đã ở 1 đêm vào Th...| 10.0|Trên cả tuyệt vời|       Trên cả tuyệt vời”|                 Khách sạn sạch sẽ...|Đã nhận xét vào 0...|          Huong_1|\n",
      "|   10_12|       JIYEON|   Hàn Quốc| Du lịch một mình|Deluxe hướng thàn...|Đã ở 2 đêm vào Th...| 10.0|Trên cả tuyệt vời|     Tôi đã chọn khách...|                 Tôi đề nghị nên n...|Đã nhận xét vào 2...|         JIYEON_1|\n",
      "|   10_12|      Jaesung|   Hàn Quốc| Du lịch một mình|Phòng Superior hư...|Đã ở 3 đêm vào Th...|  9.2|Trên cả tuyệt vời|              가성비호텔”|       가격, 위치, 직원의 친절도. ...|Đã nhận xét vào 1...|        Jaesung_1|\n",
      "|   10_12|       Jinsun|   Hàn Quốc|          Cặp đôi|Phòng Loại Sang H...|Đã ở 2 đêm vào Th...|  8.0|        Tuyệt vời|        가성비 최고 호텔”|    전반적으로는 좋았습니다. 위치,...|Đã nhận xét vào 2...|         Jinsun_1|\n",
      "|   10_12|      NAOHISA|   Nhật Bản| Du lịch một mình|Phòng đôi Superio...|Đã ở 3 đêm vào Th...|  8.4|        Tuyệt vời|              コスパ最高”|清潔な部屋、嬉しい浴槽付きです。立...|Đã nhận xét vào 0...|        NAOHISA_1|\n",
      "|   10_12|          THI|   Việt Nam|          Cặp đôi|Phòng Loại Sang H...|Đã ở 1 đêm vào Th...|  8.4|        Tuyệt vời|               Tuyệt vời”|                 Mọi thứ đều ok tr...|Đã nhận xét vào 1...|            THI_1|\n",
      "|   10_12|         Thuỷ|   Việt Nam|          Cặp đôi|Phòng đôi Superio...|Đã ở 2 đêm vào Th...|  8.0|        Tuyệt vời|                 Rất tốt”|                                  Tốt|Đã nhận xét vào 0...|           Thuỷ_1|\n",
      "|   10_12|          Thị|   Việt Nam|          Cặp đôi|Phòng Senior Delu...|Đã ở 1 đêm vào Th...| 10.0|Trên cả tuyệt vời|       Trên cả tuyệt vời”|                             Sạch đẹp|Đã nhận xét vào 3...|            Thị_1|\n",
      "|   10_12|         Tran|   Việt Nam| Du lịch một mình|Phòng Superior hư...|Đã ở 1 đêm vào Th...| 10.0|Trên cả tuyệt vời|     Đặt khách sạn qua...|                 Tôi đã có một trả...|Đã nhận xét vào 1...|           Tran_1|\n",
      "|   10_12|         Tran|   Việt Nam| Du lịch một mình|Phòng Superior hư...|Đã ở 1 đêm vào Th...| 10.0|Trên cả tuyệt vời|       Trên cả tuyệt vời”|                 Khách sạn view đẹ...|Đã nhận xét vào 0...|           Tran_2|\n",
      "|   10_12|     Valentin|        Nga|          Cặp đôi|Phòng Senior Delu...|Đã ở 3 đêm vào Th...| 10.0|Trên cả tuyệt vời|     Nice clean room, ...|                 We have tried to ...|Đã nhận xét vào 1...|       Valentin_1|\n",
      "+--------+-------------+-----------+-----------------+--------------------+--------------------+-----+-----------------+-------------------------+-------------------------------------+--------------------+-----------------+\n",
      "only showing top 20 rows\n",
      "\n"
     ]
    }
   ],
   "source": [
    "windowSpec = Window.partitionBy('Hotel ID', 'Reviewer Name').orderBy('Reviewer Name')\n",
    "data_pre = tmp.withColumn('row_num', row_number().over(windowSpec))\n",
    "data_pre = data_pre.withColumn('Reviewer_name_idx', concat(col('Reviewer Name'), lit('_'), col('row_num').cast('string')))\n",
    "data_pre = data_pre.drop('row_num')\n",
    "data_pre.show()"
   ]
  },
  {
   "cell_type": "code",
   "execution_count": 11,
   "metadata": {},
   "outputs": [
    {
     "data": {
      "text/plain": [
       "9856"
      ]
     },
     "execution_count": 11,
     "metadata": {},
     "output_type": "execute_result"
    }
   ],
   "source": [
    "data_pre.select('Reviewer_name_idx').distinct().count()"
   ]
  },
  {
   "cell_type": "markdown",
   "metadata": {},
   "source": [
    "## Dataframe chứa 3 cột để build model"
   ]
  },
  {
   "cell_type": "code",
   "execution_count": 12,
   "metadata": {},
   "outputs": [
    {
     "name": "stdout",
     "output_type": "stream",
     "text": [
      "+--------+-----------------+-----+\n",
      "|Hotel ID|Reviewer_name_idx|Score|\n",
      "+--------+-----------------+-----+\n",
      "|    10_1|           Dang_1|  9.2|\n",
      "|    10_1|          HANJU_1|  7.6|\n",
      "|    10_1|           한형_1|  7.6|\n",
      "|    10_1|         훈앤후_1|  7.2|\n",
      "|   10_10|           Diệu_1| 10.0|\n",
      "|   10_10|            Han_1| 10.0|\n",
      "|   10_10|        JOOHWAN_1|  9.2|\n",
      "|   10_10|           Minh_1| 10.0|\n",
      "|   10_10|            Sơn_1|  8.4|\n",
      "|   10_10|         suyong_1|  8.8|\n",
      "|   10_10|         김재광_1|  8.8|\n",
      "|   10_10|        안정민[_1|  9.6|\n",
      "|   10_12|           Adam_1|  9.6|\n",
      "|   10_12|         Ahreum_1| 10.0|\n",
      "|   10_12|         Akhoun_1| 10.0|\n",
      "|   10_12|       Aljoscha_1| 10.0|\n",
      "|   10_12|             An_1|  9.2|\n",
      "|   10_12|     Anastasiia_1| 10.0|\n",
      "|   10_12|        Andreas_1|  9.2|\n",
      "|   10_12|        Andreas_2|  9.6|\n",
      "+--------+-----------------+-----+\n",
      "only showing top 20 rows\n",
      "\n"
     ]
    }
   ],
   "source": [
    "data_pre = data_pre.select('Hotel ID', 'Reviewer_name_idx', 'Score')\n",
    "data_pre.show(20)"
   ]
  },
  {
   "cell_type": "code",
   "execution_count": 13,
   "metadata": {},
   "outputs": [
    {
     "data": {
      "text/plain": [
       "31032"
      ]
     },
     "execution_count": 13,
     "metadata": {},
     "output_type": "execute_result"
    }
   ],
   "source": [
    "data_pre = data_pre.dropDuplicates().dropna()\n",
    "data_pre.count()"
   ]
  },
  {
   "cell_type": "markdown",
   "metadata": {},
   "source": [
    "## Trực quan & chuẩn hóa dữ liệu  "
   ]
  },
  {
   "cell_type": "markdown",
   "metadata": {},
   "source": [
    "### Biểu đồ top 10 khách sạn được đánh giá nhiều nhất"
   ]
  },
  {
   "cell_type": "code",
   "execution_count": 94,
   "metadata": {},
   "outputs": [
    {
     "data": {
      "image/png": "[encoded data removed]",
      "text/plain": [
       "<Figure size 1000x600 with 1 Axes>"
      ]
     },
     "metadata": {},
     "output_type": "display_data"
    }
   ],
   "source": [
    "df_plt = data_pre.toPandas()\n",
    "tmp = df_plt['Hotel ID'].value_counts().reset_index(name='count')\n",
    "tmp = tmp.head(10)\n",
    "plt.figure(figsize=(10,6))\n",
    "sns.barplot(data = tmp,x='Hotel ID',y='count',errorbar=None,estimator='sum', hue = 'Hotel ID')\n",
    "# Thêm số liệu lên trên đỉnh các cột\n",
    "for index, value in zip(tmp['Hotel ID'], tmp['count']):\n",
    "    plt.text(index, value, str(value), ha='center', va='bottom')\n",
    "plt.show()"
   ]
  },
  {
   "cell_type": "markdown",
   "metadata": {},
   "source": [
    "### Biểu đồ top 10 khách hàng đánh giá nhiều nhất"
   ]
  },
  {
   "cell_type": "code",
   "execution_count": 92,
   "metadata": {},
   "outputs": [
    {
     "data": {
      "image/png": "[encoded data removed]",
      "text/plain": [
       "<Figure size 1000x600 with 1 Axes>"
      ]
     },
     "metadata": {},
     "output_type": "display_data"
    }
   ],
   "source": [
    "df_plt = data_pre.toPandas()\n",
    "tmp = df_plt['Reviewer_name_idx'].value_counts().reset_index(name='count')\n",
    "tmp = tmp.head(10)\n",
    "plt.figure(figsize=(10,6))\n",
    "sns.barplot(data = tmp,x='Reviewer_name_idx',y='count',errorbar=None,estimator='sum', hue = 'Reviewer_name_idx')\n",
    "# Thêm số liệu lên trên đỉnh các cột\n",
    "for index, value in zip(tmp['Reviewer_name_idx'], tmp['count']):\n",
    "    plt.text(index, value, str(value), ha='center', va='bottom')\n",
    "plt.show()"
   ]
  },
  {
   "cell_type": "markdown",
   "metadata": {},
   "source": [
    "### Biểu đồ tần suất số điểm đánh giá"
   ]
  },
  {
   "cell_type": "code",
   "execution_count": 100,
   "metadata": {},
   "outputs": [
    {
     "data": {
      "image/png": "[encoded data removed]",
      "text/plain": [
       "<Figure size 1000x600 with 1 Axes>"
      ]
     },
     "metadata": {},
     "output_type": "display_data"
    }
   ],
   "source": [
    "df_plt = data_pre.toPandas()\n",
    "plt.figure(figsize=(10, 6))\n",
    "sns.histplot(df_plt['Score'], bins=20, kde=True)\n",
    "plt.xlabel('Score')\n",
    "plt.ylabel('Frequency')\n",
    "plt.title('Distribution of Scores')\n",
    "plt.show()\n",
    "### Ta thấy được các đánh giá 10 rất nhiều"
   ]
  },
  {
   "cell_type": "code",
   "execution_count": 14,
   "metadata": {},
   "outputs": [],
   "source": [
    "# Distinct reviewers and hotels\n",
    "reviewers = data_pre.select(\"Reviewer_name_idx\").distinct().count()\n",
    "hotels = data_pre.select(\"Hotel ID\").distinct().count()\n",
    "numerator = data_pre.count()"
   ]
  },
  {
   "cell_type": "code",
   "execution_count": 15,
   "metadata": {},
   "outputs": [
    {
     "data": {
      "text/plain": [
       "31032"
      ]
     },
     "metadata": {},
     "output_type": "display_data"
    },
    {
     "data": {
      "text/plain": [
       "9856"
      ]
     },
     "metadata": {},
     "output_type": "display_data"
    },
    {
     "data": {
      "text/plain": [
       "473"
      ]
     },
     "metadata": {},
     "output_type": "display_data"
    }
   ],
   "source": [
    "display(numerator, reviewers, hotels)"
   ]
  },
  {
   "cell_type": "code",
   "execution_count": 16,
   "metadata": {},
   "outputs": [
    {
     "data": {
      "text/plain": [
       "4661888"
      ]
     },
     "execution_count": 16,
     "metadata": {},
     "output_type": "execute_result"
    }
   ],
   "source": [
    "# Tổng số ô trong ma trận \n",
    "denominator = reviewers * hotels\n",
    "denominator"
   ]
  },
  {
   "cell_type": "code",
   "execution_count": 17,
   "metadata": {},
   "outputs": [
    {
     "name": "stdout",
     "output_type": "stream",
     "text": [
      "Sparsity: \n"
     ]
    },
    {
     "data": {
      "text/plain": [
       "(None, 0.9933434694269789)"
      ]
     },
     "execution_count": 17,
     "metadata": {},
     "output_type": "execute_result"
    }
   ],
   "source": [
    "#Tỉ lệ còn trống khi đã được fill ban đầu\n",
    "sparsity = 1 - (numerator*1.0 / denominator)\n",
    "print (\"Sparsity: \"), sparsity"
   ]
  },
  {
   "cell_type": "code",
   "execution_count": 18,
   "metadata": {},
   "outputs": [],
   "source": [
    "# Tạo indexer cho cột asin\n",
    "indexer = StringIndexer(inputCol='Hotel ID', outputCol='Hotel_idx')\n",
    "data_indexed = indexer.fit(data_pre).transform(data_pre)\n",
    "\n",
    "# Tạo indexer cho cột reviewerID\n",
    "indexer1 = StringIndexer(inputCol='Reviewer_name_idx', outputCol='Reviewer_idx')\n",
    "final_data = indexer1.fit(data_indexed).transform(data_indexed)"
   ]
  },
  {
   "cell_type": "code",
   "execution_count": 19,
   "metadata": {},
   "outputs": [
    {
     "name": "stdout",
     "output_type": "stream",
     "text": [
      "+--------+-----------------+-----+---------+------------+\n",
      "|Hotel ID|Reviewer_name_idx|Score|Hotel_idx|Reviewer_idx|\n",
      "+--------+-----------------+-----+---------+------------+\n",
      "|   10_10|            Sơn_1|  8.4|    296.0|       232.0|\n",
      "|    10_2|          Ghais_1| 10.0|     93.0|      4890.0|\n",
      "|    10_2|         edward_1|  9.6|     93.0|      1467.0|\n",
      "|    10_9|           성주_1| 10.0|    226.0|      2343.0|\n",
      "|   11_11|       Virginie_1|  8.0|     44.0|      3385.0|\n",
      "+--------+-----------------+-----+---------+------------+\n",
      "only showing top 5 rows\n",
      "\n"
     ]
    }
   ],
   "source": [
    "final_data.show(5, truncate=True)"
   ]
  },
  {
   "cell_type": "code",
   "execution_count": 20,
   "metadata": {},
   "outputs": [
    {
     "name": "stdout",
     "output_type": "stream",
     "text": [
      "root\n",
      " |-- Hotel ID: string (nullable = true)\n",
      " |-- Reviewer_name_idx: string (nullable = true)\n",
      " |-- Score: float (nullable = true)\n",
      " |-- Hotel_idx: double (nullable = false)\n",
      " |-- Reviewer_idx: double (nullable = false)\n",
      "\n"
     ]
    }
   ],
   "source": [
    "final_data.printSchema()"
   ]
  },
  {
   "cell_type": "code",
   "execution_count": 21,
   "metadata": {},
   "outputs": [
    {
     "data": {
      "text/html": [
       "<div>\n",
       "<style scoped>\n",
       "    .dataframe tbody tr th:only-of-type {\n",
       "        vertical-align: middle;\n",
       "    }\n",
       "\n",
       "    .dataframe tbody tr th {\n",
       "        vertical-align: top;\n",
       "    }\n",
       "\n",
       "    .dataframe thead th {\n",
       "        text-align: right;\n",
       "    }\n",
       "</style>\n",
       "<table border=\"1\" class=\"dataframe\">\n",
       "  <thead>\n",
       "    <tr style=\"text-align: right;\">\n",
       "      <th></th>\n",
       "      <th>0</th>\n",
       "    </tr>\n",
       "  </thead>\n",
       "  <tbody>\n",
       "    <tr>\n",
       "      <th>Hotel ID</th>\n",
       "      <td>0</td>\n",
       "    </tr>\n",
       "    <tr>\n",
       "      <th>Reviewer_name_idx</th>\n",
       "      <td>0</td>\n",
       "    </tr>\n",
       "    <tr>\n",
       "      <th>Score</th>\n",
       "      <td>0</td>\n",
       "    </tr>\n",
       "    <tr>\n",
       "      <th>Hotel_idx</th>\n",
       "      <td>0</td>\n",
       "    </tr>\n",
       "    <tr>\n",
       "      <th>Reviewer_idx</th>\n",
       "      <td>0</td>\n",
       "    </tr>\n",
       "  </tbody>\n",
       "</table>\n",
       "</div>"
      ],
      "text/plain": [
       "                   0\n",
       "Hotel ID           0\n",
       "Reviewer_name_idx  0\n",
       "Score              0\n",
       "Hotel_idx          0\n",
       "Reviewer_idx       0"
      ]
     },
     "execution_count": 21,
     "metadata": {},
     "output_type": "execute_result"
    }
   ],
   "source": [
    "final_data.select([count(when(isnull(c), c)).alias(c) for c in final_data.columns]).toPandas().T"
   ]
  },
  {
   "cell_type": "code",
   "execution_count": 22,
   "metadata": {},
   "outputs": [
    {
     "data": {
      "text/html": [
       "<div>\n",
       "<style scoped>\n",
       "    .dataframe tbody tr th:only-of-type {\n",
       "        vertical-align: middle;\n",
       "    }\n",
       "\n",
       "    .dataframe tbody tr th {\n",
       "        vertical-align: top;\n",
       "    }\n",
       "\n",
       "    .dataframe thead th {\n",
       "        text-align: right;\n",
       "    }\n",
       "</style>\n",
       "<table border=\"1\" class=\"dataframe\">\n",
       "  <thead>\n",
       "    <tr style=\"text-align: right;\">\n",
       "      <th></th>\n",
       "      <th>0</th>\n",
       "    </tr>\n",
       "  </thead>\n",
       "  <tbody>\n",
       "    <tr>\n",
       "      <th>Hotel ID</th>\n",
       "      <td>0</td>\n",
       "    </tr>\n",
       "    <tr>\n",
       "      <th>Reviewer_name_idx</th>\n",
       "      <td>0</td>\n",
       "    </tr>\n",
       "    <tr>\n",
       "      <th>Score</th>\n",
       "      <td>0</td>\n",
       "    </tr>\n",
       "    <tr>\n",
       "      <th>Hotel_idx</th>\n",
       "      <td>0</td>\n",
       "    </tr>\n",
       "    <tr>\n",
       "      <th>Reviewer_idx</th>\n",
       "      <td>0</td>\n",
       "    </tr>\n",
       "  </tbody>\n",
       "</table>\n",
       "</div>"
      ],
      "text/plain": [
       "                   0\n",
       "Hotel ID           0\n",
       "Reviewer_name_idx  0\n",
       "Score              0\n",
       "Hotel_idx          0\n",
       "Reviewer_idx       0"
      ]
     },
     "execution_count": 22,
     "metadata": {},
     "output_type": "execute_result"
    }
   ],
   "source": [
    "final_data.select([count(when(isnan(c), c)).alias(c) for c in final_data.columns]).toPandas().T"
   ]
  },
  {
   "cell_type": "markdown",
   "metadata": {},
   "source": [
    "## Chuẩn bị train & test_data"
   ]
  },
  {
   "cell_type": "code",
   "execution_count": 23,
   "metadata": {},
   "outputs": [],
   "source": [
    "train_data, test_data = final_data.randomSplit([0.8, 0.2])"
   ]
  },
  {
   "cell_type": "code",
   "execution_count": 24,
   "metadata": {},
   "outputs": [
    {
     "name": "stdout",
     "output_type": "stream",
     "text": [
      "+-------+--------+-----------------+------------------+-----------------+------------------+\n",
      "|summary|Hotel ID|Reviewer_name_idx|             Score|        Hotel_idx|      Reviewer_idx|\n",
      "+-------+--------+-----------------+------------------+-----------------+------------------+\n",
      "|  count|   24806|            24806|             24806|            24806|             24806|\n",
      "|   mean|    NULL|             NULL| 9.230770798966661|85.43126662904136|2025.7791663307264|\n",
      "| stddev|    NULL|             NULL|0.9927851856126565|70.56877809220767|2651.4364264781966|\n",
      "|    min|    10_1|        #Aperol_1|               6.3|              0.0|               0.0|\n",
      "|    max|     9_7|           힝이_1|              10.0|            472.0|            9855.0|\n",
      "+-------+--------+-----------------+------------------+-----------------+------------------+\n",
      "\n"
     ]
    }
   ],
   "source": [
    "train_data.describe().show()"
   ]
  },
  {
   "cell_type": "code",
   "execution_count": 25,
   "metadata": {},
   "outputs": [
    {
     "name": "stdout",
     "output_type": "stream",
     "text": [
      "+--------+-----------------+-----+---------+------------+\n",
      "|Hotel ID|Reviewer_name_idx|Score|Hotel_idx|Reviewer_idx|\n",
      "+--------+-----------------+-----+---------+------------+\n",
      "|    10_1|          HANJU_1|  7.6|    338.0|       963.0|\n",
      "|    10_1|           한형_1|  7.6|    338.0|      1528.0|\n",
      "|    10_1|         훈앤후_1|  7.2|    338.0|      1530.0|\n",
      "|   10_10|           Diệu_1| 10.0|    296.0|       366.0|\n",
      "|   10_10|            Han_1| 10.0|    296.0|       209.0|\n",
      "+--------+-----------------+-----+---------+------------+\n",
      "only showing top 5 rows\n",
      "\n"
     ]
    }
   ],
   "source": [
    "train_data.show(5)"
   ]
  },
  {
   "cell_type": "code",
   "execution_count": 26,
   "metadata": {},
   "outputs": [
    {
     "name": "stdout",
     "output_type": "stream",
     "text": [
      "+-------+--------+-----------------+------------------+-----------------+------------------+\n",
      "|summary|Hotel ID|Reviewer_name_idx|             Score|        Hotel_idx|      Reviewer_idx|\n",
      "+-------+--------+-----------------+------------------+-----------------+------------------+\n",
      "|  count|    6226|             6226|              6226|             6226|              6226|\n",
      "|   mean|    NULL|             NULL| 9.250465807943838|86.91117892707999|2001.8340828782525|\n",
      "| stddev|    NULL|             NULL|0.9695147656260281|71.40550627519657| 2657.111046817146|\n",
      "|    min|    10_1|        10D5.14_1|               6.3|              0.0|               0.0|\n",
      "|    max|     9_7|         히봉봉_1|              10.0|            467.0|            9850.0|\n",
      "+-------+--------+-----------------+------------------+-----------------+------------------+\n",
      "\n"
     ]
    }
   ],
   "source": [
    "test_data.describe().show()"
   ]
  },
  {
   "cell_type": "code",
   "execution_count": 27,
   "metadata": {},
   "outputs": [
    {
     "name": "stdout",
     "output_type": "stream",
     "text": [
      "+--------+-----------------+-----+---------+------------+\n",
      "|Hotel ID|Reviewer_name_idx|Score|Hotel_idx|Reviewer_idx|\n",
      "+--------+-----------------+-----+---------+------------+\n",
      "|    10_1|           Dang_1|  9.2|    338.0|        72.0|\n",
      "|   10_10|         김재광_1|  8.8|    296.0|      2327.0|\n",
      "|   10_12|           Adam_1|  9.6|      2.0|       652.0|\n",
      "|   10_12|            Anh_2| 10.0|      2.0|        55.0|\n",
      "|   10_12|           Binh_1|  9.6|      2.0|       152.0|\n",
      "|   10_12|            Chu_1| 10.0|      2.0|       294.0|\n",
      "|   10_12|           Cole_1| 10.0|      2.0|      2515.0|\n",
      "|   10_12|         Colten_2| 10.0|      2.0|      4450.0|\n",
      "|   10_12|           Cris_1|  8.4|      2.0|      4461.0|\n",
      "|   10_12|            Dao_2|  9.2|      2.0|       949.0|\n",
      "|   10_12|         Dennis_1| 10.0|      2.0|      1184.0|\n",
      "|   10_12|          Dipti_1| 10.0|      2.0|      4606.0|\n",
      "|   10_12|          Dufay_1|  8.4|      2.0|      4645.0|\n",
      "|   10_12|          FRANK_1| 10.0|      2.0|      4787.0|\n",
      "|   10_12|         Hamish_1|  9.2|      2.0|      5108.0|\n",
      "|   10_12|           Hiếu_1| 10.0|      2.0|       184.0|\n",
      "|   10_12|          Huỳnh_2|  9.2|      2.0|       593.0|\n",
      "|   10_12|        Jaesung_1|  9.2|      2.0|      5540.0|\n",
      "|   10_12|      Jean-Marc_1|  8.0|      2.0|      5563.0|\n",
      "|   10_12|        Jekyung_1| 10.0|      2.0|      5569.0|\n",
      "+--------+-----------------+-----+---------+------------+\n",
      "only showing top 20 rows\n",
      "\n"
     ]
    }
   ],
   "source": [
    "test_data.show()"
   ]
  },
  {
   "cell_type": "markdown",
   "metadata": {},
   "source": [
    "## Xây dựng model với train_data"
   ]
  },
  {
   "cell_type": "code",
   "execution_count": 28,
   "metadata": {},
   "outputs": [],
   "source": [
    "als = ALS(maxIter=15,\n",
    "          regParam=0.2,\n",
    "          rank = 13,\n",
    "          userCol=\"Reviewer_idx\",\n",
    "          itemCol=\"Hotel_idx\",\n",
    "          ratingCol=\"Score\",\n",
    "          coldStartStrategy=\"drop\",\n",
    "          nonnegative=True)\n",
    "\n",
    "start_time = time.time()\n",
    "als_model = als.fit(train_data)\n",
    "end_time = time.time()\n",
    "elapsed_time = end_time - start_time"
   ]
  },
  {
   "cell_type": "code",
   "execution_count": 29,
   "metadata": {},
   "outputs": [
    {
     "data": {
      "text/plain": [
       "12.381053686141968"
      ]
     },
     "execution_count": 29,
     "metadata": {},
     "output_type": "execute_result"
    }
   ],
   "source": [
    "elapsed_time"
   ]
  },
  {
   "cell_type": "markdown",
   "metadata": {},
   "source": [
    "## Đánh giá model với test_data"
   ]
  },
  {
   "cell_type": "code",
   "execution_count": 30,
   "metadata": {},
   "outputs": [],
   "source": [
    "als_test_model = als_model.transform(test_data)\n",
    "evaluator = RegressionEvaluator(metricName=\"rmse\",\n",
    "                                labelCol=\"Score\",\n",
    "                                predictionCol=\"prediction\")\n",
    "rmse = evaluator.evaluate(als_test_model)"
   ]
  },
  {
   "cell_type": "code",
   "execution_count": 31,
   "metadata": {},
   "outputs": [
    {
     "name": "stdout",
     "output_type": "stream",
     "text": [
      "Root-mean-square error = 1.1226595506067818\n",
      "Time:  12.381053686141968\n"
     ]
    }
   ],
   "source": [
    "print(\"Root-mean-square error = \" + str(rmse))\n",
    "print('Time: ', elapsed_time)"
   ]
  },
  {
   "cell_type": "markdown",
   "metadata": {},
   "source": [
    "## Dự đoán mới"
   ]
  },
  {
   "cell_type": "code",
   "execution_count": 32,
   "metadata": {},
   "outputs": [],
   "source": [
    "user_recs = als_model.recommendForAllUsers(5)"
   ]
  },
  {
   "cell_type": "code",
   "execution_count": 33,
   "metadata": {},
   "outputs": [
    {
     "name": "stdout",
     "output_type": "stream",
     "text": [
      "+------------+-------------------------------------------------------------------------------------------+\n",
      "|Reviewer_idx|recommendations                                                                            |\n",
      "+------------+-------------------------------------------------------------------------------------------+\n",
      "|12          |[{427, 11.188049}, {335, 10.507856}, {323, 10.496542}, {438, 10.461822}, {437, 10.461822}] |\n",
      "|26          |[{427, 11.143107}, {335, 10.770717}, {323, 10.761865}, {291, 10.522455}, {438, 10.459218}] |\n",
      "|27          |[{427, 10.865218}, {323, 10.743484}, {335, 10.740802}, {291, 10.51724}, {393, 10.212828}]  |\n",
      "|28          |[{291, 10.935393}, {335, 10.831904}, {323, 10.8308}, {427, 10.813758}, {337, 10.54305}]    |\n",
      "|31          |[{427, 10.679679}, {438, 10.53931}, {437, 10.53931}, {381, 10.374757}, {365, 10.374757}]   |\n",
      "|34          |[{427, 10.752102}, {291, 10.2793045}, {421, 10.219471}, {401, 10.219471}, {335, 10.078094}]|\n",
      "|44          |[{427, 10.714137}, {335, 10.533157}, {323, 10.531109}, {421, 10.23818}, {401, 10.23818}]   |\n",
      "|53          |[{427, 11.322362}, {335, 11.01369}, {323, 10.997735}, {248, 10.787356}, {291, 10.774928}]  |\n",
      "|65          |[{291, 10.455819}, {248, 10.271909}, {335, 10.263984}, {323, 10.254701}, {427, 10.231961}] |\n",
      "|76          |[{427, 10.75592}, {335, 10.54209}, {323, 10.537798}, {438, 10.464695}, {437, 10.464695}]   |\n",
      "+------------+-------------------------------------------------------------------------------------------+\n",
      "only showing top 10 rows\n",
      "\n"
     ]
    }
   ],
   "source": [
    "user_recs.show(10, truncate=False)"
   ]
  },
  {
   "cell_type": "code",
   "execution_count": 34,
   "metadata": {},
   "outputs": [
    {
     "data": {
      "text/plain": [
       "9856"
      ]
     },
     "execution_count": 34,
     "metadata": {},
     "output_type": "execute_result"
    }
   ],
   "source": [
    "df_reviewer_reviewer_id = final_data.select('Reviewer_idx', 'Reviewer_name_idx').distinct()\n",
    "df_reviewer_reviewer_id.count()"
   ]
  },
  {
   "cell_type": "code",
   "execution_count": 35,
   "metadata": {},
   "outputs": [
    {
     "name": "stdout",
     "output_type": "stream",
     "text": [
      "+------------+-----------------+\n",
      "|Reviewer_idx|Reviewer_name_idx|\n",
      "+------------+-----------------+\n",
      "|      4322.0|        Cecilia_1|\n",
      "|       809.0|            JAE_2|\n",
      "|       283.0|          Phước_1|\n",
      "|      1511.0|             ye_1|\n",
      "|      1761.0|          JiAhn_1|\n",
      "+------------+-----------------+\n",
      "only showing top 5 rows\n",
      "\n"
     ]
    }
   ],
   "source": [
    "df_reviewer_reviewer_id.show(5)"
   ]
  },
  {
   "cell_type": "code",
   "execution_count": 36,
   "metadata": {},
   "outputs": [
    {
     "data": {
      "text/plain": [
       "473"
      ]
     },
     "execution_count": 36,
     "metadata": {},
     "output_type": "execute_result"
    }
   ],
   "source": [
    "df_hotel_hotel_idx = final_data.select('Hotel_idx', 'Hotel ID').distinct()\n",
    "df_hotel_hotel_idx.count()"
   ]
  },
  {
   "cell_type": "code",
   "execution_count": 37,
   "metadata": {},
   "outputs": [
    {
     "name": "stdout",
     "output_type": "stream",
     "text": [
      "+---------+--------+\n",
      "|Hotel_idx|Hotel ID|\n",
      "+---------+--------+\n",
      "|    297.0|   12_21|\n",
      "|    181.0|    5_18|\n",
      "|    349.0|   17_10|\n",
      "|    277.0|    2_24|\n",
      "|    344.0|    5_27|\n",
      "+---------+--------+\n",
      "only showing top 5 rows\n",
      "\n"
     ]
    }
   ],
   "source": [
    "df_hotel_hotel_idx.show(5)"
   ]
  },
  {
   "cell_type": "code",
   "execution_count": 38,
   "metadata": {},
   "outputs": [
    {
     "data": {
      "text/plain": [
       "8601"
      ]
     },
     "execution_count": 38,
     "metadata": {},
     "output_type": "execute_result"
    }
   ],
   "source": [
    "new_user_recs = user_recs.join(df_reviewer_reviewer_id, on=['Reviewer_idx'], how='left')\n",
    "new_user_recs.count()"
   ]
  },
  {
   "cell_type": "code",
   "execution_count": 39,
   "metadata": {},
   "outputs": [
    {
     "name": "stdout",
     "output_type": "stream",
     "text": [
      "+------------+--------------------+-----------------+\n",
      "|Reviewer_idx|     recommendations|Reviewer_name_idx|\n",
      "+------------+--------------------+-----------------+\n",
      "|          12|[{427, 11.188049}...|            Thị_1|\n",
      "|          26|[{427, 11.143107}...|         NGUYEN_1|\n",
      "|          27|[{427, 10.865218}...|          Quang_1|\n",
      "|          28|[{291, 10.935393}...|           Ngọc_1|\n",
      "|          31|[{427, 10.679679}...|         Nguyen_3|\n",
      "+------------+--------------------+-----------------+\n",
      "only showing top 5 rows\n",
      "\n"
     ]
    }
   ],
   "source": [
    "new_user_recs.show(5)"
   ]
  },
  {
   "cell_type": "code",
   "execution_count": 40,
   "metadata": {},
   "outputs": [
    {
     "name": "stdout",
     "output_type": "stream",
     "text": [
      "root\n",
      " |-- Hotel ID: string (nullable = true)\n",
      " |-- Reviewer_name_idx: string (nullable = true)\n",
      " |-- Score: float (nullable = true)\n",
      " |-- Hotel_idx: double (nullable = false)\n",
      " |-- Reviewer_idx: double (nullable = false)\n",
      "\n"
     ]
    }
   ],
   "source": [
    "final_data.printSchema()"
   ]
  },
  {
   "cell_type": "code",
   "execution_count": 41,
   "metadata": {},
   "outputs": [
    {
     "data": {
      "text/plain": [
       "{'Reviewer_name_idx': 'Nguyen_1',\n",
       " 'recommendations': [(427, '18_30', 10.855122566223145),\n",
       "  (335, '7_9', 10.736937522888184),\n",
       "  (323, '12_13', 10.72379207611084),\n",
       "  (291, '39_17', 10.32441520690918),\n",
       "  (438, '28_27', 10.181641578674316)]}"
      ]
     },
     "execution_count": 41,
     "metadata": {},
     "output_type": "execute_result"
    }
   ],
   "source": [
    "# Gợi ý cho reviewerID = 'A1WGVOVABHFDF3'\n",
    "Reviewer_name_idx = 'Nguyen_1'\n",
    "find_user_rec = new_user_recs.filter(new_user_recs['Reviewer_name_idx'] == Reviewer_name_idx)\n",
    "user = find_user_rec.first()\n",
    "lst = []\n",
    "for row in user['recommendations']:\n",
    "    row_f = df_hotel_hotel_idx.filter(df_hotel_hotel_idx.Hotel_idx == row['Hotel_idx'])\n",
    "    row_f_first = row_f.first()\n",
    "    lst.append((row['Hotel_idx'], row_f_first['Hotel ID'], row['rating']))\n",
    "dic_user_rec = {'Reviewer_name_idx' : user.Reviewer_name_idx, 'recommendations' :lst}\n",
    "dic_user_rec"
   ]
  },
  {
   "cell_type": "markdown",
   "metadata": {},
   "source": [
    "## Surprise"
   ]
  },
  {
   "cell_type": "code",
   "execution_count": 42,
   "metadata": {},
   "outputs": [
    {
     "data": {
      "text/html": [
       "<div>\n",
       "<style scoped>\n",
       "    .dataframe tbody tr th:only-of-type {\n",
       "        vertical-align: middle;\n",
       "    }\n",
       "\n",
       "    .dataframe tbody tr th {\n",
       "        vertical-align: top;\n",
       "    }\n",
       "\n",
       "    .dataframe thead th {\n",
       "        text-align: right;\n",
       "    }\n",
       "</style>\n",
       "<table border=\"1\" class=\"dataframe\">\n",
       "  <thead>\n",
       "    <tr style=\"text-align: right;\">\n",
       "      <th></th>\n",
       "      <th>Hotel ID</th>\n",
       "      <th>Reviewer_name_idx</th>\n",
       "      <th>Score</th>\n",
       "      <th>Hotel_idx</th>\n",
       "      <th>Reviewer_idx</th>\n",
       "    </tr>\n",
       "  </thead>\n",
       "  <tbody>\n",
       "    <tr>\n",
       "      <th>0</th>\n",
       "      <td>10_10</td>\n",
       "      <td>Sơn_1</td>\n",
       "      <td>8.4</td>\n",
       "      <td>296.0</td>\n",
       "      <td>232.0</td>\n",
       "    </tr>\n",
       "    <tr>\n",
       "      <th>1</th>\n",
       "      <td>10_2</td>\n",
       "      <td>Ghais_1</td>\n",
       "      <td>10.0</td>\n",
       "      <td>93.0</td>\n",
       "      <td>4890.0</td>\n",
       "    </tr>\n",
       "    <tr>\n",
       "      <th>2</th>\n",
       "      <td>10_2</td>\n",
       "      <td>edward_1</td>\n",
       "      <td>9.6</td>\n",
       "      <td>93.0</td>\n",
       "      <td>1467.0</td>\n",
       "    </tr>\n",
       "    <tr>\n",
       "      <th>3</th>\n",
       "      <td>10_9</td>\n",
       "      <td>성주_1</td>\n",
       "      <td>10.0</td>\n",
       "      <td>226.0</td>\n",
       "      <td>2343.0</td>\n",
       "    </tr>\n",
       "    <tr>\n",
       "      <th>4</th>\n",
       "      <td>11_11</td>\n",
       "      <td>Virginie_1</td>\n",
       "      <td>8.0</td>\n",
       "      <td>44.0</td>\n",
       "      <td>3385.0</td>\n",
       "    </tr>\n",
       "  </tbody>\n",
       "</table>\n",
       "</div>"
      ],
      "text/plain": [
       "  Hotel ID Reviewer_name_idx  Score  Hotel_idx  Reviewer_idx\n",
       "0    10_10             Sơn_1    8.4      296.0         232.0\n",
       "1     10_2           Ghais_1   10.0       93.0        4890.0\n",
       "2     10_2          edward_1    9.6       93.0        1467.0\n",
       "3     10_9              성주_1   10.0      226.0        2343.0\n",
       "4    11_11        Virginie_1    8.0       44.0        3385.0"
      ]
     },
     "execution_count": 42,
     "metadata": {},
     "output_type": "execute_result"
    }
   ],
   "source": [
    "df = final_data.toPandas()\n",
    "df.head()"
   ]
  },
  {
   "cell_type": "code",
   "execution_count": 43,
   "metadata": {},
   "outputs": [],
   "source": [
    "# df.to_csv('final_hotel.csv',index = False)"
   ]
  },
  {
   "cell_type": "code",
   "execution_count": 44,
   "metadata": {},
   "outputs": [
    {
     "data": {
      "text/html": [
       "<div>\n",
       "<style scoped>\n",
       "    .dataframe tbody tr th:only-of-type {\n",
       "        vertical-align: middle;\n",
       "    }\n",
       "\n",
       "    .dataframe tbody tr th {\n",
       "        vertical-align: top;\n",
       "    }\n",
       "\n",
       "    .dataframe thead th {\n",
       "        text-align: right;\n",
       "    }\n",
       "</style>\n",
       "<table border=\"1\" class=\"dataframe\">\n",
       "  <thead>\n",
       "    <tr style=\"text-align: right;\">\n",
       "      <th></th>\n",
       "      <th>Hotel_idx</th>\n",
       "      <th>Score</th>\n",
       "      <th>Reviewer_idx</th>\n",
       "    </tr>\n",
       "  </thead>\n",
       "  <tbody>\n",
       "    <tr>\n",
       "      <th>0</th>\n",
       "      <td>296.0</td>\n",
       "      <td>8.4</td>\n",
       "      <td>232.0</td>\n",
       "    </tr>\n",
       "    <tr>\n",
       "      <th>1</th>\n",
       "      <td>93.0</td>\n",
       "      <td>10.0</td>\n",
       "      <td>4890.0</td>\n",
       "    </tr>\n",
       "    <tr>\n",
       "      <th>2</th>\n",
       "      <td>93.0</td>\n",
       "      <td>9.6</td>\n",
       "      <td>1467.0</td>\n",
       "    </tr>\n",
       "    <tr>\n",
       "      <th>3</th>\n",
       "      <td>226.0</td>\n",
       "      <td>10.0</td>\n",
       "      <td>2343.0</td>\n",
       "    </tr>\n",
       "    <tr>\n",
       "      <th>4</th>\n",
       "      <td>44.0</td>\n",
       "      <td>8.0</td>\n",
       "      <td>3385.0</td>\n",
       "    </tr>\n",
       "  </tbody>\n",
       "</table>\n",
       "</div>"
      ],
      "text/plain": [
       "   Hotel_idx  Score  Reviewer_idx\n",
       "0      296.0    8.4         232.0\n",
       "1       93.0   10.0        4890.0\n",
       "2       93.0    9.6        1467.0\n",
       "3      226.0   10.0        2343.0\n",
       "4       44.0    8.0        3385.0"
      ]
     },
     "execution_count": 44,
     "metadata": {},
     "output_type": "execute_result"
    }
   ],
   "source": [
    "df_tmp = df[['Hotel_idx', 'Score', 'Reviewer_idx']]\n",
    "df_tmp.head()"
   ]
  },
  {
   "cell_type": "code",
   "execution_count": 45,
   "metadata": {},
   "outputs": [],
   "source": [
    "reader = Reader(rating_scale=(df_tmp['Score'].min(), df_tmp['Score'].max()))\n",
    "df_pre = Dataset.load_from_df(df_tmp[['Reviewer_idx', 'Hotel_idx', 'Score']], reader)"
   ]
  },
  {
   "cell_type": "code",
   "execution_count": 46,
   "metadata": {},
   "outputs": [],
   "source": [
    "algorithms = {\n",
    "    'SVD' : SVD(),\n",
    "    'SVD++' : SVDpp(),\n",
    "    'BaselineOnly' : BaselineOnly(),\n",
    "    'KNN Basicc' : KNNBasic(),\n",
    "    'KNN Baseline' : KNNBaseline()\n",
    "}"
   ]
  },
  {
   "cell_type": "code",
   "execution_count": 47,
   "metadata": {},
   "outputs": [
    {
     "name": "stdout",
     "output_type": "stream",
     "text": [
      "Evaluate SVD: \n",
      "Evaluating RMSE, MAE of algorithm SVD on 5 split(s).\n",
      "\n",
      "                  Fold 1  Fold 2  Fold 3  Fold 4  Fold 5  Mean    Std     \n",
      "RMSE (testset)    0.9556  0.9661  0.9482  0.9427  0.9321  0.9489  0.0115  \n",
      "MAE (testset)     0.7550  0.7641  0.7596  0.7479  0.7401  0.7533  0.0085  \n",
      "Fit time          0.28    0.27    0.29    0.30    0.28    0.29    0.01    \n",
      "Test time         0.03    0.03    0.03    0.03    0.03    0.03    0.00    \n",
      "Evaluate SVD++: \n",
      "Evaluating RMSE, MAE of algorithm SVDpp on 5 split(s).\n",
      "\n",
      "                  Fold 1  Fold 2  Fold 3  Fold 4  Fold 5  Mean    Std     \n",
      "RMSE (testset)    0.9422  0.9355  0.9488  0.9526  0.9501  0.9458  0.0062  \n",
      "MAE (testset)     0.7426  0.7417  0.7466  0.7560  0.7531  0.7480  0.0057  \n",
      "Fit time          0.62    0.61    0.61    0.61    0.63    0.62    0.01    \n",
      "Test time         0.15    0.15    0.15    0.22    0.19    0.17    0.03    \n",
      "Evaluate BaselineOnly: \n",
      "Estimating biases using als...\n",
      "Estimating biases using als...\n",
      "Estimating biases using als...\n",
      "Estimating biases using als...\n",
      "Estimating biases using als...\n",
      "Evaluating RMSE, MAE of algorithm BaselineOnly on 5 split(s).\n",
      "\n",
      "                  Fold 1  Fold 2  Fold 3  Fold 4  Fold 5  Mean    Std     \n",
      "RMSE (testset)    0.9499  0.9475  0.9549  0.9451  0.9537  0.9502  0.0037  \n",
      "MAE (testset)     0.7595  0.7570  0.7603  0.7609  0.7650  0.7605  0.0026  \n",
      "Fit time          0.08    0.08    0.08    0.08    0.10    0.08    0.01    \n",
      "Test time         0.02    0.01    0.02    0.02    0.02    0.02    0.00    \n",
      "Evaluate KNN Basicc: \n",
      "Computing the msd similarity matrix...\n",
      "Done computing similarity matrix.\n",
      "Computing the msd similarity matrix...\n",
      "Done computing similarity matrix.\n",
      "Computing the msd similarity matrix...\n",
      "Done computing similarity matrix.\n",
      "Computing the msd similarity matrix...\n",
      "Done computing similarity matrix.\n",
      "Computing the msd similarity matrix...\n",
      "Done computing similarity matrix.\n",
      "Evaluating RMSE, MAE of algorithm KNNBasic on 5 split(s).\n",
      "\n",
      "                  Fold 1  Fold 2  Fold 3  Fold 4  Fold 5  Mean    Std     \n",
      "RMSE (testset)    0.9221  0.9180  0.9350  0.9230  0.9348  0.9266  0.0070  \n",
      "MAE (testset)     0.7055  0.7092  0.7072  0.7042  0.7124  0.7077  0.0029  \n",
      "Fit time          1.63    1.50    1.23    1.29    1.11    1.35    0.19    \n",
      "Test time         0.62    0.98    0.51    0.52    0.52    0.63    0.18    \n",
      "Evaluate KNN Baseline: \n",
      "Estimating biases using als...\n",
      "Computing the msd similarity matrix...\n",
      "Done computing similarity matrix.\n",
      "Estimating biases using als...\n",
      "Computing the msd similarity matrix...\n",
      "Done computing similarity matrix.\n",
      "Estimating biases using als...\n",
      "Computing the msd similarity matrix...\n",
      "Done computing similarity matrix.\n",
      "Estimating biases using als...\n",
      "Computing the msd similarity matrix...\n",
      "Done computing similarity matrix.\n",
      "Estimating biases using als...\n",
      "Computing the msd similarity matrix...\n",
      "Done computing similarity matrix.\n",
      "Evaluating RMSE, MAE of algorithm KNNBaseline on 5 split(s).\n",
      "\n",
      "                  Fold 1  Fold 2  Fold 3  Fold 4  Fold 5  Mean    Std     \n",
      "RMSE (testset)    0.9124  0.9040  0.9357  0.9268  0.9278  0.9214  0.0115  \n",
      "MAE (testset)     0.6985  0.6937  0.7134  0.7111  0.7133  0.7060  0.0083  \n",
      "Fit time          1.18    1.78    1.15    1.12    1.08    1.26    0.26    \n",
      "Test time         0.57    0.59    0.61    0.56    0.56    0.58    0.02    \n"
     ]
    }
   ],
   "source": [
    "results = {}\n",
    "for name, algorithm in algorithms.items():\n",
    "    print(f'Evaluate {name}: ')\n",
    "    start_time = time.time()\n",
    "    result = cross_validate(algorithm, df_pre, measures=['RMSE', 'MAE'], cv=5, verbose=True)\n",
    "    end_time = time.time()\n",
    "    elapsed_time = end_time - start_time\n",
    "    result['fit_time'] = elapsed_time\n",
    "    results[name] = result"
   ]
  },
  {
   "cell_type": "code",
   "execution_count": 48,
   "metadata": {},
   "outputs": [
    {
     "name": "stdout",
     "output_type": "stream",
     "text": [
      "SVD Result \n",
      "Mean RMSE: 0.9489455850409507\n",
      "Mean MSE: 0.7533250276362883\n",
      "Time: 1.8935790061950684\n",
      "\n",
      "SVD++ Result \n",
      "Mean RMSE: 0.9458433745312089\n",
      "Mean MSE: 0.7480073679948107\n",
      "Time: 4.141406059265137\n",
      "\n",
      "BaselineOnly Result \n",
      "Mean RMSE: 0.9502178036877821\n",
      "Mean MSE: 0.7605432467608823\n",
      "Time: 0.7762386798858643\n",
      "\n",
      "KNN Basicc Result \n",
      "Mean RMSE: 0.9265568187601196\n",
      "Mean MSE: 0.707719639765214\n",
      "Time: 10.137149333953857\n",
      "\n",
      "KNN Baseline Result \n",
      "Mean RMSE: 0.9213502901313187\n",
      "Mean MSE: 0.7059984194477857\n",
      "Time: 9.48210620880127\n",
      "\n"
     ]
    }
   ],
   "source": [
    "for name, result in results.items():\n",
    "    print(f'{name} Result ')\n",
    "    print(f\"Mean RMSE: {result['test_rmse'].mean()}\")\n",
    "    print(f\"Mean MSE: {result['test_mae'].mean()}\")\n",
    "    print(f\"Time: {result['fit_time']}\\n\")"
   ]
  },
  {
   "cell_type": "code",
   "execution_count": 49,
   "metadata": {},
   "outputs": [
    {
     "data": {
      "text/plain": [
       "<surprise.prediction_algorithms.matrix_factorization.SVD at 0x2c0eaab4b90>"
      ]
     },
     "execution_count": 49,
     "metadata": {},
     "output_type": "execute_result"
    }
   ],
   "source": [
    "# If the results are OK => getting full dataset => fit model\n",
    "algorithm = SVD()\n",
    "trainset = df_pre.build_full_trainset()\n",
    "algorithm.fit(trainset)"
   ]
  },
  {
   "cell_type": "code",
   "execution_count": 50,
   "metadata": {},
   "outputs": [
    {
     "data": {
      "text/html": [
       "<div>\n",
       "<style scoped>\n",
       "    .dataframe tbody tr th:only-of-type {\n",
       "        vertical-align: middle;\n",
       "    }\n",
       "\n",
       "    .dataframe tbody tr th {\n",
       "        vertical-align: top;\n",
       "    }\n",
       "\n",
       "    .dataframe thead th {\n",
       "        text-align: right;\n",
       "    }\n",
       "</style>\n",
       "<table border=\"1\" class=\"dataframe\">\n",
       "  <thead>\n",
       "    <tr style=\"text-align: right;\">\n",
       "      <th></th>\n",
       "      <th>Hotel ID</th>\n",
       "      <th>Reviewer_name_idx</th>\n",
       "      <th>Score</th>\n",
       "      <th>Reviewer_idx</th>\n",
       "    </tr>\n",
       "    <tr>\n",
       "      <th>Hotel_idx</th>\n",
       "      <th></th>\n",
       "      <th></th>\n",
       "      <th></th>\n",
       "      <th></th>\n",
       "    </tr>\n",
       "  </thead>\n",
       "  <tbody>\n",
       "    <tr>\n",
       "      <th>255.0</th>\n",
       "      <td>13_9</td>\n",
       "      <td>YUKA_1</td>\n",
       "      <td>8.8</td>\n",
       "      <td>2097.0</td>\n",
       "    </tr>\n",
       "    <tr>\n",
       "      <th>254.0</th>\n",
       "      <td>12_24</td>\n",
       "      <td>YUKA_1</td>\n",
       "      <td>8.8</td>\n",
       "      <td>2097.0</td>\n",
       "    </tr>\n",
       "    <tr>\n",
       "      <th>257.0</th>\n",
       "      <td>7_16</td>\n",
       "      <td>YUKA_1</td>\n",
       "      <td>8.8</td>\n",
       "      <td>2097.0</td>\n",
       "    </tr>\n",
       "  </tbody>\n",
       "</table>\n",
       "</div>"
      ],
      "text/plain": [
       "          Hotel ID Reviewer_name_idx  Score  Reviewer_idx\n",
       "Hotel_idx                                                \n",
       "255.0         13_9            YUKA_1    8.8        2097.0\n",
       "254.0        12_24            YUKA_1    8.8        2097.0\n",
       "257.0         7_16            YUKA_1    8.8        2097.0"
      ]
     },
     "execution_count": 50,
     "metadata": {},
     "output_type": "execute_result"
    }
   ],
   "source": [
    "# userId = 27 has seen some movies:\n",
    "Reviewer_idx = 2097.0\n",
    "df_select = df[(df['Reviewer_idx'] == Reviewer_idx) & (df['Score'] >=8)]\n",
    "df_select = df_select.set_index('Hotel_idx')\n",
    "df_select.head(df_select.shape[0])"
   ]
  },
  {
   "cell_type": "code",
   "execution_count": 51,
   "metadata": {},
   "outputs": [
    {
     "data": {
      "text/plain": [
       "Hotel ID         740\n",
       "Hotel_Name       740\n",
       "Hotel_Address    740\n",
       "dtype: int64"
      ]
     },
     "execution_count": 51,
     "metadata": {},
     "output_type": "execute_result"
    }
   ],
   "source": [
    "df_info = pd.read_csv('Data_Agoda/hotel_info.csv')\n",
    "df_info = df_info[['Hotel_ID', 'Hotel_Name', 'Hotel_Address']]\n",
    "df_info.rename(columns={'Hotel_ID': 'Hotel ID'}, inplace=True)\n",
    "df_info.dropna().count()"
   ]
  },
  {
   "cell_type": "code",
   "execution_count": 52,
   "metadata": {},
   "outputs": [
    {
     "data": {
      "text/html": [
       "<div>\n",
       "<style scoped>\n",
       "    .dataframe tbody tr th:only-of-type {\n",
       "        vertical-align: middle;\n",
       "    }\n",
       "\n",
       "    .dataframe tbody tr th {\n",
       "        vertical-align: top;\n",
       "    }\n",
       "\n",
       "    .dataframe thead th {\n",
       "        text-align: right;\n",
       "    }\n",
       "</style>\n",
       "<table border=\"1\" class=\"dataframe\">\n",
       "  <thead>\n",
       "    <tr style=\"text-align: right;\">\n",
       "      <th></th>\n",
       "      <th>Hotel ID</th>\n",
       "      <th>Hotel_Name</th>\n",
       "      <th>Hotel_Address</th>\n",
       "    </tr>\n",
       "  </thead>\n",
       "  <tbody>\n",
       "    <tr>\n",
       "      <th>0</th>\n",
       "      <td>1_1</td>\n",
       "      <td>Khách sạn Mường Thanh Luxury Nha Trang (Muong ...</td>\n",
       "      <td>60 Trần Phú, Lộc Thọ, Nha Trang, Việt Nam</td>\n",
       "    </tr>\n",
       "    <tr>\n",
       "      <th>1</th>\n",
       "      <td>1_2</td>\n",
       "      <td>ALPHA BIRD NHA TRANG</td>\n",
       "      <td>51/19/37 Tue Tinh St, Loc Tho Ward, Nha Trang,...</td>\n",
       "    </tr>\n",
       "    <tr>\n",
       "      <th>2</th>\n",
       "      <td>1_3</td>\n",
       "      <td>Khách sạn Aaron (Aaron Hotel)</td>\n",
       "      <td>6Trần Quang Khải, Lộc Thọ, Nha Trang, Việt Nam...</td>\n",
       "    </tr>\n",
       "    <tr>\n",
       "      <th>3</th>\n",
       "      <td>1_4</td>\n",
       "      <td>Panorama Star Beach Nha Trang</td>\n",
       "      <td>02 Nguyen Thi Minh Khai, Lộc Thọ, Nha Trang, V...</td>\n",
       "    </tr>\n",
       "    <tr>\n",
       "      <th>4</th>\n",
       "      <td>1_5</td>\n",
       "      <td>Khách sạn Balcony Nha Trang (Balcony Nha Trang...</td>\n",
       "      <td>98B/13 Trần Phú, Lộc Thọ, Nha Trang, Việt Nam</td>\n",
       "    </tr>\n",
       "  </tbody>\n",
       "</table>\n",
       "</div>"
      ],
      "text/plain": [
       "  Hotel ID                                         Hotel_Name  \\\n",
       "0      1_1  Khách sạn Mường Thanh Luxury Nha Trang (Muong ...   \n",
       "1      1_2                               ALPHA BIRD NHA TRANG   \n",
       "2      1_3                      Khách sạn Aaron (Aaron Hotel)   \n",
       "3      1_4                      Panorama Star Beach Nha Trang   \n",
       "4      1_5  Khách sạn Balcony Nha Trang (Balcony Nha Trang...   \n",
       "\n",
       "                                       Hotel_Address  \n",
       "0          60 Trần Phú, Lộc Thọ, Nha Trang, Việt Nam  \n",
       "1  51/19/37 Tue Tinh St, Loc Tho Ward, Nha Trang,...  \n",
       "2  6Trần Quang Khải, Lộc Thọ, Nha Trang, Việt Nam...  \n",
       "3  02 Nguyen Thi Minh Khai, Lộc Thọ, Nha Trang, V...  \n",
       "4      98B/13 Trần Phú, Lộc Thọ, Nha Trang, Việt Nam  "
      ]
     },
     "execution_count": 52,
     "metadata": {},
     "output_type": "execute_result"
    }
   ],
   "source": [
    "df_info.head()"
   ]
  },
  {
   "cell_type": "code",
   "execution_count": 53,
   "metadata": {},
   "outputs": [
    {
     "data": {
      "text/html": [
       "<div>\n",
       "<style scoped>\n",
       "    .dataframe tbody tr th:only-of-type {\n",
       "        vertical-align: middle;\n",
       "    }\n",
       "\n",
       "    .dataframe tbody tr th {\n",
       "        vertical-align: top;\n",
       "    }\n",
       "\n",
       "    .dataframe thead th {\n",
       "        text-align: right;\n",
       "    }\n",
       "</style>\n",
       "<table border=\"1\" class=\"dataframe\">\n",
       "  <thead>\n",
       "    <tr style=\"text-align: right;\">\n",
       "      <th></th>\n",
       "      <th>Hotel_idx</th>\n",
       "      <th>Hotel ID</th>\n",
       "    </tr>\n",
       "  </thead>\n",
       "  <tbody>\n",
       "    <tr>\n",
       "      <th>0</th>\n",
       "      <td>296.0</td>\n",
       "      <td>10_10</td>\n",
       "    </tr>\n",
       "    <tr>\n",
       "      <th>1</th>\n",
       "      <td>93.0</td>\n",
       "      <td>10_2</td>\n",
       "    </tr>\n",
       "    <tr>\n",
       "      <th>2</th>\n",
       "      <td>93.0</td>\n",
       "      <td>10_2</td>\n",
       "    </tr>\n",
       "    <tr>\n",
       "      <th>3</th>\n",
       "      <td>226.0</td>\n",
       "      <td>10_9</td>\n",
       "    </tr>\n",
       "    <tr>\n",
       "      <th>4</th>\n",
       "      <td>44.0</td>\n",
       "      <td>11_11</td>\n",
       "    </tr>\n",
       "    <tr>\n",
       "      <th>...</th>\n",
       "      <td>...</td>\n",
       "      <td>...</td>\n",
       "    </tr>\n",
       "    <tr>\n",
       "      <th>31027</th>\n",
       "      <td>66.0</td>\n",
       "      <td>6_5</td>\n",
       "    </tr>\n",
       "    <tr>\n",
       "      <th>31028</th>\n",
       "      <td>306.0</td>\n",
       "      <td>7_14</td>\n",
       "    </tr>\n",
       "    <tr>\n",
       "      <th>31029</th>\n",
       "      <td>15.0</td>\n",
       "      <td>7_26</td>\n",
       "    </tr>\n",
       "    <tr>\n",
       "      <th>31030</th>\n",
       "      <td>146.0</td>\n",
       "      <td>8_15</td>\n",
       "    </tr>\n",
       "    <tr>\n",
       "      <th>31031</th>\n",
       "      <td>146.0</td>\n",
       "      <td>8_15</td>\n",
       "    </tr>\n",
       "  </tbody>\n",
       "</table>\n",
       "<p>31032 rows × 2 columns</p>\n",
       "</div>"
      ],
      "text/plain": [
       "       Hotel_idx Hotel ID\n",
       "0          296.0    10_10\n",
       "1           93.0     10_2\n",
       "2           93.0     10_2\n",
       "3          226.0     10_9\n",
       "4           44.0    11_11\n",
       "...          ...      ...\n",
       "31027       66.0      6_5\n",
       "31028      306.0     7_14\n",
       "31029       15.0     7_26\n",
       "31030      146.0     8_15\n",
       "31031      146.0     8_15\n",
       "\n",
       "[31032 rows x 2 columns]"
      ]
     },
     "execution_count": 53,
     "metadata": {},
     "output_type": "execute_result"
    }
   ],
   "source": [
    "df_score = df[['Hotel_idx', 'Hotel ID']]\n",
    "df_score"
   ]
  },
  {
   "cell_type": "code",
   "execution_count": 54,
   "metadata": {},
   "outputs": [
    {
     "data": {
      "text/plain": [
       "3000.0"
      ]
     },
     "execution_count": 54,
     "metadata": {},
     "output_type": "execute_result"
    }
   ],
   "source": [
    "Reviewer_idx = 'NHƯ_1'\n",
    "df_select = df[(df['Reviewer_name_idx'] == Reviewer_idx)]\n",
    "Reviewer_idx = df_select['Reviewer_idx'].head(1).values[0]\n",
    "Reviewer_idx"
   ]
  },
  {
   "cell_type": "code",
   "execution_count": 56,
   "metadata": {},
   "outputs": [
    {
     "name": "stderr",
     "output_type": "stream",
     "text": [
      "C:\\Users\\Phú\\AppData\\Local\\Temp\\ipykernel_58108\\88048154.py:3: SettingWithCopyWarning: \n",
      "A value is trying to be set on a copy of a slice from a DataFrame.\n",
      "Try using .loc[row_indexer,col_indexer] = value instead\n",
      "\n",
      "See the caveats in the documentation: https://pandas.pydata.org/pandas-docs/stable/user_guide/indexing.html#returning-a-view-versus-a-copy\n",
      "  df_score['EstimateScore'] = df_score['Hotel_idx'].apply(lambda x: algorithm.predict(Reviewer_idx, x).est) # est: get EstimateScore\n"
     ]
    },
    {
     "data": {
      "text/html": [
       "<div>\n",
       "<style scoped>\n",
       "    .dataframe tbody tr th:only-of-type {\n",
       "        vertical-align: middle;\n",
       "    }\n",
       "\n",
       "    .dataframe tbody tr th {\n",
       "        vertical-align: top;\n",
       "    }\n",
       "\n",
       "    .dataframe thead th {\n",
       "        text-align: right;\n",
       "    }\n",
       "</style>\n",
       "<table border=\"1\" class=\"dataframe\">\n",
       "  <thead>\n",
       "    <tr style=\"text-align: right;\">\n",
       "      <th></th>\n",
       "      <th>Hotel_idx</th>\n",
       "      <th>Hotel ID</th>\n",
       "      <th>EstimateScore</th>\n",
       "      <th>Hotel_Name</th>\n",
       "      <th>Hotel_Address</th>\n",
       "    </tr>\n",
       "  </thead>\n",
       "  <tbody>\n",
       "    <tr>\n",
       "      <th>1</th>\n",
       "      <td>96.0</td>\n",
       "      <td>10_22</td>\n",
       "      <td>9.698793</td>\n",
       "      <td>Khách sạn Sunrise Nha Trang Beach Hotel &amp; Spa ...</td>\n",
       "      <td>12 Trần Phú , Xương Huân, Nha Trang, Việt Nam,...</td>\n",
       "    </tr>\n",
       "    <tr>\n",
       "      <th>2</th>\n",
       "      <td>8.0</td>\n",
       "      <td>20_2</td>\n",
       "      <td>9.698440</td>\n",
       "      <td>Khách Sạn MerPerle Beach (MerPerle Beach Hotel)</td>\n",
       "      <td>88A Tran Phu Street, Lộc Thọ, Nha Trang, Việt ...</td>\n",
       "    </tr>\n",
       "    <tr>\n",
       "      <th>3</th>\n",
       "      <td>248.0</td>\n",
       "      <td>16_15</td>\n",
       "      <td>9.689823</td>\n",
       "      <td>HANZ Muong Thanh Vien Trieu Condo Hotel</td>\n",
       "      <td>5 Phạm Văn Đồng, Vĩnh Hải, Nha Trang, Khánh Hò...</td>\n",
       "    </tr>\n",
       "    <tr>\n",
       "      <th>4</th>\n",
       "      <td>53.0</td>\n",
       "      <td>2_4</td>\n",
       "      <td>9.673235</td>\n",
       "      <td>Khu nghỉ dưỡng Amiana Nha Trang (Amiana Resort...</td>\n",
       "      <td>Nha Trang Bay, Phạm Văn Đồng , Vĩnh Hòa, Nha T...</td>\n",
       "    </tr>\n",
       "    <tr>\n",
       "      <th>5</th>\n",
       "      <td>93.0</td>\n",
       "      <td>10_2</td>\n",
       "      <td>9.671238</td>\n",
       "      <td>InterContinental Nha Trang</td>\n",
       "      <td>32-34 Tran Phu Street , Lộc Thọ, Nha Trang, Vi...</td>\n",
       "    </tr>\n",
       "    <tr>\n",
       "      <th>...</th>\n",
       "      <td>...</td>\n",
       "      <td>...</td>\n",
       "      <td>...</td>\n",
       "      <td>...</td>\n",
       "      <td>...</td>\n",
       "    </tr>\n",
       "    <tr>\n",
       "      <th>467</th>\n",
       "      <td>103.0</td>\n",
       "      <td>6_10</td>\n",
       "      <td>8.410278</td>\n",
       "      <td>Khách sạn Starlet (Starlet Hotel Nha Trang)</td>\n",
       "      <td>51 Tuệ Tĩnh, Lộc Thọ, Nha Trang, Việt Nam</td>\n",
       "    </tr>\n",
       "    <tr>\n",
       "      <th>468</th>\n",
       "      <td>147.0</td>\n",
       "      <td>1_29</td>\n",
       "      <td>8.399512</td>\n",
       "      <td>Khách sạn Paris Nha Trang (Paris Nha Trang Hot...</td>\n",
       "      <td>96B1/6 Trần Phú, Lộc Thọ, Nha Trang, Việt Nam</td>\n",
       "    </tr>\n",
       "    <tr>\n",
       "      <th>470</th>\n",
       "      <td>189.0</td>\n",
       "      <td>33_29</td>\n",
       "      <td>8.327485</td>\n",
       "      <td>Hong Mai Hotel Nha Trang</td>\n",
       "      <td>Đinh Tiên Hoàng. thị trấn Cam Đức, quận Cam Lâ...</td>\n",
       "    </tr>\n",
       "    <tr>\n",
       "      <th>471</th>\n",
       "      <td>139.0</td>\n",
       "      <td>12_5</td>\n",
       "      <td>8.281169</td>\n",
       "      <td>Khách sạn Nice Swan (Nice Swan Hotel Nha Trang)</td>\n",
       "      <td>64 Hùng Vương, Lộc Thọ, Nha Trang, Việt Nam</td>\n",
       "    </tr>\n",
       "    <tr>\n",
       "      <th>472</th>\n",
       "      <td>181.0</td>\n",
       "      <td>5_18</td>\n",
       "      <td>8.236023</td>\n",
       "      <td>Khách san Luxury Nha Trang (Luxury Nha Trang H...</td>\n",
       "      <td>24 Trần Phú , Lộc Thọ, Nha Trang, Việt Nam, 85...</td>\n",
       "    </tr>\n",
       "  </tbody>\n",
       "</table>\n",
       "<p>341 rows × 5 columns</p>\n",
       "</div>"
      ],
      "text/plain": [
       "     Hotel_idx Hotel ID  EstimateScore  \\\n",
       "1         96.0    10_22       9.698793   \n",
       "2          8.0     20_2       9.698440   \n",
       "3        248.0    16_15       9.689823   \n",
       "4         53.0      2_4       9.673235   \n",
       "5         93.0     10_2       9.671238   \n",
       "..         ...      ...            ...   \n",
       "467      103.0     6_10       8.410278   \n",
       "468      147.0     1_29       8.399512   \n",
       "470      189.0    33_29       8.327485   \n",
       "471      139.0     12_5       8.281169   \n",
       "472      181.0     5_18       8.236023   \n",
       "\n",
       "                                            Hotel_Name  \\\n",
       "1    Khách sạn Sunrise Nha Trang Beach Hotel & Spa ...   \n",
       "2      Khách Sạn MerPerle Beach (MerPerle Beach Hotel)   \n",
       "3              HANZ Muong Thanh Vien Trieu Condo Hotel   \n",
       "4    Khu nghỉ dưỡng Amiana Nha Trang (Amiana Resort...   \n",
       "5                           InterContinental Nha Trang   \n",
       "..                                                 ...   \n",
       "467        Khách sạn Starlet (Starlet Hotel Nha Trang)   \n",
       "468  Khách sạn Paris Nha Trang (Paris Nha Trang Hot...   \n",
       "470                           Hong Mai Hotel Nha Trang   \n",
       "471    Khách sạn Nice Swan (Nice Swan Hotel Nha Trang)   \n",
       "472  Khách san Luxury Nha Trang (Luxury Nha Trang H...   \n",
       "\n",
       "                                         Hotel_Address  \n",
       "1    12 Trần Phú , Xương Huân, Nha Trang, Việt Nam,...  \n",
       "2    88A Tran Phu Street, Lộc Thọ, Nha Trang, Việt ...  \n",
       "3    5 Phạm Văn Đồng, Vĩnh Hải, Nha Trang, Khánh Hò...  \n",
       "4    Nha Trang Bay, Phạm Văn Đồng , Vĩnh Hòa, Nha T...  \n",
       "5    32-34 Tran Phu Street , Lộc Thọ, Nha Trang, Vi...  \n",
       "..                                                 ...  \n",
       "467          51 Tuệ Tĩnh, Lộc Thọ, Nha Trang, Việt Nam  \n",
       "468      96B1/6 Trần Phú, Lộc Thọ, Nha Trang, Việt Nam  \n",
       "470  Đinh Tiên Hoàng. thị trấn Cam Đức, quận Cam Lâ...  \n",
       "471        64 Hùng Vương, Lộc Thọ, Nha Trang, Việt Nam  \n",
       "472  24 Trần Phú , Lộc Thọ, Nha Trang, Việt Nam, 85...  \n",
       "\n",
       "[341 rows x 5 columns]"
      ]
     },
     "execution_count": 56,
     "metadata": {},
     "output_type": "execute_result"
    }
   ],
   "source": [
    "Reviewer_idx = 3007.0\n",
    "df_score = df[['Hotel_idx', 'Hotel ID']]\n",
    "df_score['EstimateScore'] = df_score['Hotel_idx'].apply(lambda x: algorithm.predict(Reviewer_idx, x).est) # est: get EstimateScore\n",
    "df_score = df_score.sort_values(by=['EstimateScore'], ascending=False)\n",
    "df_score = df_score.drop_duplicates()\n",
    "\n",
    "df_rcm = pd.merge(df_score, df_info, on='Hotel ID', how='left')\n",
    "df_rcm = df_rcm.dropna(subset='Hotel_Name')\n",
    "df_rcm"
   ]
  },
  {
   "cell_type": "markdown",
   "metadata": {},
   "source": [
    "## Lưu và tải model"
   ]
  },
  {
   "cell_type": "code",
   "execution_count": null,
   "metadata": {},
   "outputs": [],
   "source": [
    "# Save cosine_sim to file\n",
    "import pickle\n",
    "with open('surprise_svd.pkl', 'wb') as f:\n",
    "    pickle.dump(algorithm, f)\n",
    "\n",
    "# Open and read file to cosine_new\n",
    "with open('surprise_svd.pkl', 'rb') as f:\n",
    "    surprise_svd = pickle.load(f)\n",
    "# cosine_sim_new"
   ]
  }
 ],
 "metadata": {
  "kernelspec": {
   "display_name": "Python 3",
   "language": "python",
   "name": "python3"
  },
  "language_info": {
   "codemirror_mode": {
    "name": "ipython",
    "version": 3
   },
   "file_extension": ".py",
   "mimetype": "text/x-python",
   "name": "python",
   "nbconvert_exporter": "python",
   "pygments_lexer": "ipython3",
   "version": "3.11.4"
  }
 },
 "nbformat": 4,
 "nbformat_minor": 2
}
